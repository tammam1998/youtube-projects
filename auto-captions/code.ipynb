{
 "cells": [
  {
   "cell_type": "code",
   "execution_count": null,
   "metadata": {},
   "outputs": [],
   "source": [
    "import whisper\n",
    "from moviepy.editor import VideoFileClip, TextClip, CompositeVideoClip"
   ]
  },
  {
   "cell_type": "code",
   "execution_count": null,
   "metadata": {},
   "outputs": [],
   "source": [
    "def get_trascript(video_path):\n",
    "    model = whisper.load_model('base')\n",
    "    options = dict(task = \"transcribe\", language=\"en\", word_timestamps=True)\n",
    "    transcript = model.transcribe(video_path, **options)\n",
    "    return transcript"
   ]
  },
  {
   "cell_type": "code",
   "execution_count": null,
   "metadata": {},
   "outputs": [],
   "source": [
    "transcript = get_trascript('test.mov')"
   ]
  },
  {
   "cell_type": "code",
   "execution_count": null,
   "metadata": {},
   "outputs": [],
   "source": [
    "transcript['segments']"
   ]
  },
  {
   "cell_type": "code",
   "execution_count": null,
   "metadata": {},
   "outputs": [],
   "source": [
    "def create_captions(video_file, transcript_segments):\n",
    "    \"\"\"\n",
    "    This function will create the captions for the video file\n",
    "    \"\"\"\n",
    "    # Create the captions for the video file\n",
    "    video = VideoFileClip(video_file)\n",
    "    subtitles_clips = []\n",
    "    for segment in transcript_segments:\n",
    "        fontsize = 60\n",
    "        for word_info in segment['words']:\n",
    "            text = word_info['word'].strip().capitalize()\n",
    "            start_time = word_info['start']\n",
    "            end_time = word_info['end']\n",
    "\n",
    "            text_clip = TextClip(text, size = (video.w, None), fontsize=fontsize, color='white', align='center', method='caption').set_pos(('center', video.h * 2 / 3.5 )).set_start(start_time).set_duration(end_time-start_time)\n",
    "            subtitles_clips.append(text_clip)\n",
    "\n",
    "    video_with_captions = CompositeVideoClip([video] + subtitles_clips)\n",
    "    return video_with_captions"
   ]
  }
 ],
 "metadata": {
  "kernelspec": {
   "display_name": ".venv",
   "language": "python",
   "name": "python3"
  },
  "language_info": {
   "codemirror_mode": {
    "name": "ipython",
    "version": 3
   },
   "file_extension": ".py",
   "mimetype": "text/x-python",
   "name": "python",
   "nbconvert_exporter": "python",
   "pygments_lexer": "ipython3",
   "version": "3.11.5"
  }
 },
 "nbformat": 4,
 "nbformat_minor": 2
}
